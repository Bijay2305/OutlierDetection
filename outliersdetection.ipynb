{
  "nbformat": 4,
  "nbformat_minor": 0,
  "metadata": {
    "kernelspec": {
      "display_name": "Python 3",
      "language": "python",
      "name": "python3"
    },
    "language_info": {
      "codemirror_mode": {
        "name": "ipython",
        "version": 3
      },
      "file_extension": ".py",
      "mimetype": "text/x-python",
      "name": "python",
      "nbconvert_exporter": "python",
      "pygments_lexer": "ipython3",
      "version": "3.6.10"
    },
    "colab": {
      "name": "outliersdetection.ipynb",
      "provenance": [],
      "collapsed_sections": []
    }
  },
  "cells": [
    {
      "cell_type": "code",
      "metadata": {
        "id": "IjfVIguFEtTN",
        "colab": {
          "base_uri": "https://localhost:8080/"
        },
        "outputId": "1b9cfd4e-c650-4238-9d9c-d8110f803cd2"
      },
      "source": [
        "from google.colab import drive\n",
        "drive.mount('/content/drive')\n",
        "import pandas as pd\n",
        "import numpy as np\n",
        "import warnings\n",
        "warnings.filterwarnings('ignore')\n",
        "print(\"imported\")"
      ],
      "execution_count": 1,
      "outputs": [
        {
          "output_type": "stream",
          "text": [
            "Mounted at /content/drive\n",
            "imported\n"
          ],
          "name": "stdout"
        }
      ]
    },
    {
      "cell_type": "code",
      "metadata": {
        "id": "7BoCNrGZEtTb",
        "colab": {
          "base_uri": "https://localhost:8080/"
        },
        "outputId": "af396594-ba8c-44e6-afa6-778330458730"
      },
      "source": [
        "#/content/drive/MyDrive/Colab Notebooks/incident_event_log.csv\n",
        "df_total=pd.read_csv(r\"/content/drive/MyDrive/Colab Notebooks/incident_event_log.csv\")\n",
        "df_total['incident_state'].unique()"
      ],
      "execution_count": 2,
      "outputs": [
        {
          "output_type": "execute_result",
          "data": {
            "text/plain": [
              "array(['New', 'Resolved', 'Closed', 'Active', 'Awaiting User Info',\n",
              "       'Awaiting Problem', 'Awaiting Vendor', 'Awaiting Evidence', '-100'],\n",
              "      dtype=object)"
            ]
          },
          "metadata": {
            "tags": []
          },
          "execution_count": 2
        }
      ]
    },
    {
      "cell_type": "code",
      "metadata": {
        "id": "x1Bo1Ap5EtTc"
      },
      "source": [
        "df_major=df_total.loc[df_total['incident_state']=='Active']"
      ],
      "execution_count": 3,
      "outputs": []
    },
    {
      "cell_type": "code",
      "metadata": {
        "id": "_Jh4cxD3EtTd"
      },
      "source": [
        "df_total=df_total.head(5000)\n",
        "df_major =df_total.loc[df_total['incident_state'] =='Active']"
      ],
      "execution_count": 4,
      "outputs": []
    },
    {
      "cell_type": "code",
      "metadata": {
        "id": "4e5skkZDEtTd",
        "colab": {
          "base_uri": "https://localhost:8080/"
        },
        "outputId": "fb7c8f56-c082-4323-995b-e15c78d9e6a9"
      },
      "source": [
        "df=df_total\n",
        "df.info()"
      ],
      "execution_count": 5,
      "outputs": [
        {
          "output_type": "stream",
          "text": [
            "<class 'pandas.core.frame.DataFrame'>\n",
            "RangeIndex: 5000 entries, 0 to 4999\n",
            "Data columns (total 36 columns):\n",
            " #   Column                   Non-Null Count  Dtype \n",
            "---  ------                   --------------  ----- \n",
            " 0   number                   5000 non-null   object\n",
            " 1   incident_state           5000 non-null   object\n",
            " 2   active                   5000 non-null   bool  \n",
            " 3   reassignment_count       5000 non-null   int64 \n",
            " 4   reopen_count             5000 non-null   int64 \n",
            " 5   sys_mod_count            5000 non-null   int64 \n",
            " 6   made_sla                 5000 non-null   bool  \n",
            " 7   caller_id                5000 non-null   object\n",
            " 8   opened_by                5000 non-null   object\n",
            " 9   opened_at                5000 non-null   object\n",
            " 10  sys_created_by           5000 non-null   object\n",
            " 11  sys_created_at           5000 non-null   object\n",
            " 12  sys_updated_by           5000 non-null   object\n",
            " 13  sys_updated_at           5000 non-null   object\n",
            " 14  contact_type             5000 non-null   object\n",
            " 15  location                 5000 non-null   object\n",
            " 16  category                 5000 non-null   object\n",
            " 17  subcategory              5000 non-null   object\n",
            " 18  u_symptom                5000 non-null   object\n",
            " 19  cmdb_ci                  5000 non-null   object\n",
            " 20  impact                   5000 non-null   object\n",
            " 21  urgency                  5000 non-null   object\n",
            " 22  priority                 5000 non-null   object\n",
            " 23  assignment_group         5000 non-null   object\n",
            " 24  assigned_to              5000 non-null   object\n",
            " 25  knowledge                5000 non-null   bool  \n",
            " 26  u_priority_confirmation  5000 non-null   bool  \n",
            " 27  notify                   5000 non-null   object\n",
            " 28  problem_id               5000 non-null   object\n",
            " 29  rfc                      5000 non-null   object\n",
            " 30  vendor                   5000 non-null   object\n",
            " 31  caused_by                5000 non-null   object\n",
            " 32  closed_code              5000 non-null   object\n",
            " 33  resolved_by              5000 non-null   object\n",
            " 34  resolved_at              5000 non-null   object\n",
            " 35  closed_at                5000 non-null   object\n",
            "dtypes: bool(4), int64(3), object(29)\n",
            "memory usage: 1.2+ MB\n"
          ],
          "name": "stdout"
        }
      ]
    },
    {
      "cell_type": "code",
      "metadata": {
        "id": "WLAS2nrgEtTe"
      },
      "source": [
        "#select the cols which is exactly required for finding outlier\n",
        "col=['opened_at','category','subcategory']\n",
        "df=df[col]\n",
        "#extract only date part from Date\n",
        "df['Date']=pd.to_datetime(df['opened_at']).dt.date\n",
        "df['time']=pd.to_datetime(df['opened_at']).dt.time\n",
        "df['opened_at']=pd.to_datetime(df['opened_at'])\n",
        "df['week_number']=df['opened_at'].dt.week\n",
        "df['month']=df['opened_at'].dt.month\n",
        "df['year']=df['opened_at'].dt.year\n"
      ],
      "execution_count": 6,
      "outputs": []
    },
    {
      "cell_type": "code",
      "metadata": {
        "id": "W5TlFJIbEtTf"
      },
      "source": [
        "#selecting the cols which is exactly required for finding outliers \n",
        "col=['opened_at','category','incident_state']\n",
        "df_major=df_major[col]\n",
        "#extact the date part from Datetime\n",
        "df_major['Date']=pd.to_datetime(df_major['opened_at']).dt.date\n",
        "df_major=df_major[['category','Date','incident_state']]"
      ],
      "execution_count": 7,
      "outputs": []
    },
    {
      "cell_type": "code",
      "metadata": {
        "id": "AA-JqG-gEtTf",
        "colab": {
          "base_uri": "https://localhost:8080/"
        },
        "outputId": "b551e2f8-cee6-429e-bc19-5b47041ef057"
      },
      "source": [
        "df_major.info()"
      ],
      "execution_count": 8,
      "outputs": [
        {
          "output_type": "stream",
          "text": [
            "<class 'pandas.core.frame.DataFrame'>\n",
            "Int64Index: 1241 entries, 5 to 4986\n",
            "Data columns (total 3 columns):\n",
            " #   Column          Non-Null Count  Dtype \n",
            "---  ------          --------------  ----- \n",
            " 0   category        1241 non-null   object\n",
            " 1   Date            1241 non-null   object\n",
            " 2   incident_state  1241 non-null   object\n",
            "dtypes: object(3)\n",
            "memory usage: 38.8+ KB\n"
          ],
          "name": "stdout"
        }
      ]
    },
    {
      "cell_type": "code",
      "metadata": {
        "id": "qfC37n7AEtTg"
      },
      "source": [
        "#Find selecting cols for daily weekly monthly and CIs\n",
        "df=df[['subcategory','category','Date','week_number','month','year']]\n",
        "df['cmdb_category']=df['subcategory'].astype(str) +'@@'+df['category'].astype(str)\n",
        "df_major=df_major.rename({'category' : 'cmdb_ci'},axis=1)\n"
      ],
      "execution_count": 9,
      "outputs": []
    },
    {
      "cell_type": "code",
      "metadata": {
        "id": "b4Z6mcqbEtTg"
      },
      "source": [
        "df=df.dropna()\n",
        "df_major=df_major.dropna()"
      ],
      "execution_count": 10,
      "outputs": []
    },
    {
      "cell_type": "code",
      "metadata": {
        "id": "MgALpjMPEtTg",
        "colab": {
          "base_uri": "https://localhost:8080/"
        },
        "outputId": "02bfc8d7-9947-4c13-9591-5e1ab60d9573"
      },
      "source": [
        "df_major.info()"
      ],
      "execution_count": 11,
      "outputs": [
        {
          "output_type": "stream",
          "text": [
            "<class 'pandas.core.frame.DataFrame'>\n",
            "Int64Index: 1241 entries, 5 to 4986\n",
            "Data columns (total 3 columns):\n",
            " #   Column          Non-Null Count  Dtype \n",
            "---  ------          --------------  ----- \n",
            " 0   cmdb_ci         1241 non-null   object\n",
            " 1   Date            1241 non-null   object\n",
            " 2   incident_state  1241 non-null   object\n",
            "dtypes: object(3)\n",
            "memory usage: 38.8+ KB\n"
          ],
          "name": "stdout"
        }
      ]
    },
    {
      "cell_type": "code",
      "metadata": {
        "id": "cdWEVPdWEtTh"
      },
      "source": [
        "#function which explains the business logic for finding outlier CI in daily weekly and monthly basis\n",
        "#fun receiving 3 input parameters as dataset,freq(daily,weekly,monthly) & percentile value\n",
        "def outlierPredication(input_data,frequency,input_percentile,major_incident):\n",
        "    df_threshold_day=pd.DataFrame(columns=['cmdb_category','threshold_day'])\n",
        "    df_threshold_week=pd.DataFrame(columns=['cmdb_category','threshold_week'])\n",
        "    #one empty Data Frame for storing results for Daily,weekly or monthly\n",
        "    data_final=pd.DataFrame()\n",
        "    #var which stores unique CI Items\n",
        "    #cmdb_ci_unique= input_data['cmdb_ci'].unique()\n",
        "    df_new=input_data.drop_duplicates(['category','subcategory'])\n",
        "    cmdb_ci_unique=df_new['subcategory'].astype(str) + '@@'+df_new['category'].astype(str)\n",
        "    cmdb_ci_unique=cmdb_ci_unique.tolist()\n",
        "    #iterating through all CI Items\n",
        "    for ci_item in cmdb_ci_unique:\n",
        "        #checking condition  for Daily Basis\n",
        "        if frequency == 'daily':\n",
        "            #selecting the Dates & Item col required for Daily Basis\n",
        "            data=input_data[['Date','cmdb_category']]\n",
        "            #for each item it is grouping  by Dates and find counts and finally reseting \n",
        "            data=data[data['cmdb_category']==ci_item].groupby(['Date']).agg({'cmdb_category':'count'}).reset_index()\n",
        "            #assigning count value to col \"count\"\n",
        "            data['count']=data.cmdb_category\n",
        "            # assigning CI Items to col cmdb_ci\n",
        "            data['cmdb_category']=ci_item\n",
        "            #checking condition for weekly basis\n",
        "        #elif frequency == 'weekly':\n",
        "            #selecting the week number,year & CI Item col required for weekly basis\n",
        "            data_week= input_data[['week_number','year','cmdb_category']]\n",
        "            #For each Item it is grouping by year and week number and find counts and finaly\n",
        "            data_week=data_week[data_week['cmdb_category']==ci_item].groupby(['year','week_number']).agg({'cmdb_category':'count'}).reset_index()\n",
        "            #assigning count value to col count\n",
        "            data_week['count']=data_week.cmdb_category\n",
        "            #assigning CI Items to col 'cmdb_ci'\n",
        "            data_week['cmdb_category']=ci_item\n",
        "            #checking condition for montly basis\n",
        "        elif frequency == 'monthly' :\n",
        "            #selecting the week number,year & CI Item col required for monthly basis\n",
        "            data= input_data[['month','year','cmdb_category']]\n",
        "            #For each Item it is grouping by year and month number and find counts and finaly\n",
        "            data=data[data['cmdb_ci']==ci_item].groupby(['year','month']).agg({'cmdb_category':'count'}).reset_index()\n",
        "            #assigning count value to col count\n",
        "            data['count']=data.cmdb_category\n",
        "            #assigning CI Items to col 'cmdb_ci'\n",
        "            data['cmdb_category']=ci_item\n",
        "        else:\n",
        "            print(\"Enter the Frequncy as Daily weekly or monthly\")\n",
        "        #finding the percentile value of each count to decide outlier or not\n",
        "        per= np.percentile(data['count'],input_percentile)\n",
        "        #one empty list for storing the flag value as normal or outlier\n",
        "        l=[]\n",
        "        #comparing the percentile value of each count to decide outlier or not\n",
        "        for each in data['count']:\n",
        "            if (each>per):\n",
        "                l.append('outlier')\n",
        "            else :\n",
        "                l.append('normal')\n",
        "        #assigning flag values(normal/outlier to column) \"flag\"\n",
        "        data['flag_day']=l\n",
        "        #finding the percentlie value of each count to decide outlier or not\n",
        "        per_week =np.percentile(data_week['count'],input_percentile)\n",
        "        #one empty list for staring the flag value as normala or outlier\n",
        "        l_week=[]\n",
        "        #print(data_week.info())\n",
        "        \n",
        "        #comparing the percentile value with each count by iterating through loop\n",
        "        for each in data_week['count']:\n",
        "            if(each>per):\n",
        "                l_week.append('outlier')\n",
        "            else:\n",
        "                l_week.append('normal')\n",
        "        data_week['flag_week'] =l_week\n",
        "        #appending the result data(Daily/weekly/monthly count values & item) to the empty Data Frame(data_final)\n",
        "        data_final =data_final.append(data)\n",
        "        #category = input_data['category']\n",
        "        #empty Data frame to store Item name and corresponding threshols values\n",
        "        #df_per\n",
        "        df_per=pd.DataFrame([[ci_item,per]],columns=['cmdb_category','threshold_day'])\n",
        "        df_per_week=pd.DataFrame([[ci_item,per_week]],columns=['cmdb_category','threshold_week'])\n",
        "        \n",
        "        #appending the result Items& threshold value to the emty Data Frame\n",
        "        df_threshold_day =df_threshold_day.append(df_per)\n",
        "        df_threshold_week = df_threshold_week.append(df_per_week)\n",
        "        #print(df_threshold_week.info())\n",
        "        df_threshold_week[['category','cmdb_ci']] = df_threshold_week.cmdb_category.str.split(\"@@\",expand=True)\n",
        "    data_final =pd.merge(data_final,df_threshold_day,on=['cmdb_category'],how='left')\n",
        "    data_final[['category','cmdb_ci']] =data_final.cmdb_category.str.split(\"@@\",expand=True)\n",
        "    data_final =pd.merge(data_final,major_incident,on=['cmdb_ci','Date'],how='left')\n",
        "    data_final['incident_major_state'] =np.where(data_final['incident_state'] == \"Active\",1,0)\n",
        "    data_final['Date'] =data_final['Date'].astype(\"datetime64[ns]\")\n",
        "    data_final=data_final.rename({'incident_major_state':'incident_state'},axis=1)\n",
        "    del data_final['cmdb_category']\n",
        "    del df_threshold_week['cmdb_category']\n",
        "    return data_final,df_threshold_day,df_threshold_week\n",
        "    \n",
        "        \n",
        "        \n",
        "            \n",
        "        \n",
        "            \n",
        "            \n",
        "    \n",
        "    \n",
        "    \n",
        "    "
      ],
      "execution_count": 12,
      "outputs": []
    },
    {
      "cell_type": "code",
      "metadata": {
        "id": "ZVYf9iu5EtTm"
      },
      "source": [
        "data,df_threshold_day,df_threshold_week=outlierPredication(df,'daily',90,df_major)"
      ],
      "execution_count": 13,
      "outputs": []
    },
    {
      "cell_type": "code",
      "metadata": {
        "id": "sHx4ogF7EtTo",
        "colab": {
          "base_uri": "https://localhost:8080/",
          "height": 204
        },
        "outputId": "859619de-c992-4f42-fa13-45bffc8ad6dc"
      },
      "source": [
        "data.head()"
      ],
      "execution_count": 14,
      "outputs": [
        {
          "output_type": "execute_result",
          "data": {
            "text/html": [
              "<div>\n",
              "<style scoped>\n",
              "    .dataframe tbody tr th:only-of-type {\n",
              "        vertical-align: middle;\n",
              "    }\n",
              "\n",
              "    .dataframe tbody tr th {\n",
              "        vertical-align: top;\n",
              "    }\n",
              "\n",
              "    .dataframe thead th {\n",
              "        text-align: right;\n",
              "    }\n",
              "</style>\n",
              "<table border=\"1\" class=\"dataframe\">\n",
              "  <thead>\n",
              "    <tr style=\"text-align: right;\">\n",
              "      <th></th>\n",
              "      <th>Date</th>\n",
              "      <th>count</th>\n",
              "      <th>flag_day</th>\n",
              "      <th>threshold_day</th>\n",
              "      <th>category</th>\n",
              "      <th>cmdb_ci</th>\n",
              "      <th>incident_state</th>\n",
              "      <th>incident_state</th>\n",
              "    </tr>\n",
              "  </thead>\n",
              "  <tbody>\n",
              "    <tr>\n",
              "      <th>0</th>\n",
              "      <td>2016-01-03</td>\n",
              "      <td>46</td>\n",
              "      <td>outlier</td>\n",
              "      <td>40.2</td>\n",
              "      <td>Subcategory 170</td>\n",
              "      <td>Category 55</td>\n",
              "      <td>Active</td>\n",
              "      <td>1</td>\n",
              "    </tr>\n",
              "    <tr>\n",
              "      <th>1</th>\n",
              "      <td>2016-01-03</td>\n",
              "      <td>46</td>\n",
              "      <td>outlier</td>\n",
              "      <td>40.2</td>\n",
              "      <td>Subcategory 170</td>\n",
              "      <td>Category 55</td>\n",
              "      <td>Active</td>\n",
              "      <td>1</td>\n",
              "    </tr>\n",
              "    <tr>\n",
              "      <th>2</th>\n",
              "      <td>2016-01-03</td>\n",
              "      <td>46</td>\n",
              "      <td>outlier</td>\n",
              "      <td>40.2</td>\n",
              "      <td>Subcategory 170</td>\n",
              "      <td>Category 55</td>\n",
              "      <td>Active</td>\n",
              "      <td>1</td>\n",
              "    </tr>\n",
              "    <tr>\n",
              "      <th>3</th>\n",
              "      <td>2016-01-03</td>\n",
              "      <td>46</td>\n",
              "      <td>outlier</td>\n",
              "      <td>40.2</td>\n",
              "      <td>Subcategory 170</td>\n",
              "      <td>Category 55</td>\n",
              "      <td>Active</td>\n",
              "      <td>1</td>\n",
              "    </tr>\n",
              "    <tr>\n",
              "      <th>4</th>\n",
              "      <td>2016-01-03</td>\n",
              "      <td>46</td>\n",
              "      <td>outlier</td>\n",
              "      <td>40.2</td>\n",
              "      <td>Subcategory 170</td>\n",
              "      <td>Category 55</td>\n",
              "      <td>Active</td>\n",
              "      <td>1</td>\n",
              "    </tr>\n",
              "  </tbody>\n",
              "</table>\n",
              "</div>"
            ],
            "text/plain": [
              "        Date  count flag_day  ...      cmdb_ci incident_state incident_state\n",
              "0 2016-01-03     46  outlier  ...  Category 55         Active              1\n",
              "1 2016-01-03     46  outlier  ...  Category 55         Active              1\n",
              "2 2016-01-03     46  outlier  ...  Category 55         Active              1\n",
              "3 2016-01-03     46  outlier  ...  Category 55         Active              1\n",
              "4 2016-01-03     46  outlier  ...  Category 55         Active              1\n",
              "\n",
              "[5 rows x 8 columns]"
            ]
          },
          "metadata": {
            "tags": []
          },
          "execution_count": 14
        }
      ]
    },
    {
      "cell_type": "code",
      "metadata": {
        "id": "MBm5WvKSEtTp",
        "colab": {
          "base_uri": "https://localhost:8080/",
          "height": 204
        },
        "outputId": "7570dc33-3430-4bb2-9b96-9332c83f58a9"
      },
      "source": [
        "df_threshold_day.head()"
      ],
      "execution_count": 15,
      "outputs": [
        {
          "output_type": "execute_result",
          "data": {
            "text/html": [
              "<div>\n",
              "<style scoped>\n",
              "    .dataframe tbody tr th:only-of-type {\n",
              "        vertical-align: middle;\n",
              "    }\n",
              "\n",
              "    .dataframe tbody tr th {\n",
              "        vertical-align: top;\n",
              "    }\n",
              "\n",
              "    .dataframe thead th {\n",
              "        text-align: right;\n",
              "    }\n",
              "</style>\n",
              "<table border=\"1\" class=\"dataframe\">\n",
              "  <thead>\n",
              "    <tr style=\"text-align: right;\">\n",
              "      <th></th>\n",
              "      <th>cmdb_category</th>\n",
              "      <th>threshold_day</th>\n",
              "    </tr>\n",
              "  </thead>\n",
              "  <tbody>\n",
              "    <tr>\n",
              "      <th>0</th>\n",
              "      <td>Subcategory 170@@Category 55</td>\n",
              "      <td>40.2</td>\n",
              "    </tr>\n",
              "    <tr>\n",
              "      <th>0</th>\n",
              "      <td>Subcategory 215@@Category 40</td>\n",
              "      <td>32.2</td>\n",
              "    </tr>\n",
              "    <tr>\n",
              "      <th>0</th>\n",
              "      <td>Subcategory 125@@Category 20</td>\n",
              "      <td>60.8</td>\n",
              "    </tr>\n",
              "    <tr>\n",
              "      <th>0</th>\n",
              "      <td>Subcategory 97@@Category 9</td>\n",
              "      <td>4.0</td>\n",
              "    </tr>\n",
              "    <tr>\n",
              "      <th>0</th>\n",
              "      <td>Subcategory 168@@Category 53</td>\n",
              "      <td>52.8</td>\n",
              "    </tr>\n",
              "  </tbody>\n",
              "</table>\n",
              "</div>"
            ],
            "text/plain": [
              "                  cmdb_category  threshold_day\n",
              "0  Subcategory 170@@Category 55           40.2\n",
              "0  Subcategory 215@@Category 40           32.2\n",
              "0  Subcategory 125@@Category 20           60.8\n",
              "0    Subcategory 97@@Category 9            4.0\n",
              "0  Subcategory 168@@Category 53           52.8"
            ]
          },
          "metadata": {
            "tags": []
          },
          "execution_count": 15
        }
      ]
    },
    {
      "cell_type": "code",
      "metadata": {
        "id": "lclBsS05-fHO",
        "colab": {
          "base_uri": "https://localhost:8080/",
          "height": 204
        },
        "outputId": "ba07e4bf-f30b-4ff4-a657-f8e07c081638"
      },
      "source": [
        "df_threshold_week.head()"
      ],
      "execution_count": 16,
      "outputs": [
        {
          "output_type": "execute_result",
          "data": {
            "text/html": [
              "<div>\n",
              "<style scoped>\n",
              "    .dataframe tbody tr th:only-of-type {\n",
              "        vertical-align: middle;\n",
              "    }\n",
              "\n",
              "    .dataframe tbody tr th {\n",
              "        vertical-align: top;\n",
              "    }\n",
              "\n",
              "    .dataframe thead th {\n",
              "        text-align: right;\n",
              "    }\n",
              "</style>\n",
              "<table border=\"1\" class=\"dataframe\">\n",
              "  <thead>\n",
              "    <tr style=\"text-align: right;\">\n",
              "      <th></th>\n",
              "      <th>threshold_week</th>\n",
              "      <th>category</th>\n",
              "      <th>cmdb_ci</th>\n",
              "    </tr>\n",
              "  </thead>\n",
              "  <tbody>\n",
              "    <tr>\n",
              "      <th>0</th>\n",
              "      <td>40.2</td>\n",
              "      <td>Subcategory 170</td>\n",
              "      <td>Category 55</td>\n",
              "    </tr>\n",
              "    <tr>\n",
              "      <th>0</th>\n",
              "      <td>32.2</td>\n",
              "      <td>Subcategory 215</td>\n",
              "      <td>Category 40</td>\n",
              "    </tr>\n",
              "    <tr>\n",
              "      <th>0</th>\n",
              "      <td>60.8</td>\n",
              "      <td>Subcategory 125</td>\n",
              "      <td>Category 20</td>\n",
              "    </tr>\n",
              "    <tr>\n",
              "      <th>0</th>\n",
              "      <td>4.0</td>\n",
              "      <td>Subcategory 97</td>\n",
              "      <td>Category 9</td>\n",
              "    </tr>\n",
              "    <tr>\n",
              "      <th>0</th>\n",
              "      <td>52.8</td>\n",
              "      <td>Subcategory 168</td>\n",
              "      <td>Category 53</td>\n",
              "    </tr>\n",
              "  </tbody>\n",
              "</table>\n",
              "</div>"
            ],
            "text/plain": [
              "   threshold_week         category      cmdb_ci\n",
              "0            40.2  Subcategory 170  Category 55\n",
              "0            32.2  Subcategory 215  Category 40\n",
              "0            60.8  Subcategory 125  Category 20\n",
              "0             4.0   Subcategory 97   Category 9\n",
              "0            52.8  Subcategory 168  Category 53"
            ]
          },
          "metadata": {
            "tags": []
          },
          "execution_count": 16
        }
      ]
    },
    {
      "cell_type": "code",
      "metadata": {
        "id": "nstchQ12-mMW"
      },
      "source": [
        ""
      ],
      "execution_count": 16,
      "outputs": []
    }
  ]
}